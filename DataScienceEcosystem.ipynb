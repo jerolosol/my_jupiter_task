{
 "cells": [
  {
   "cell_type": "markdown",
   "id": "e578f7e2",
   "metadata": {},
   "source": [
    "# Data Science Tools and Ecosystem "
   ]
  },
  {
   "cell_type": "markdown",
   "id": "6480f340",
   "metadata": {},
   "source": [
    "En este cuaderno se resumen las herramientas y el ecosistema de ciencia de datos."
   ]
  },
  {
   "cell_type": "markdown",
   "id": "51c6bdfd",
   "metadata": {},
   "source": [
    "Algunos de los lenguajes populares que utilizan los científicos de datos son:\n",
    "1. Python\n",
    "2. R\n",
    "3. SQL\n",
    "4. Julia"
   ]
  },
  {
   "cell_type": "markdown",
   "id": "3cf24bad",
   "metadata": {},
   "source": [
    "**Objetivos:**\n",
    "\n",
    "- Listar lenguajes populares para ciencia de datos.\n",
    "- Describir bibliotecas comúnmente utilizadas en ciencia de datos.\n",
    "- Mostrar ejemplos de expresiones aritméticas en Python.\n",
    "- Convertir unidades, como minutos a horas.\n",
    "- Presentar cómo se estructuran las tablas y listas en Markdown.\n"
   ]
  },
  {
   "cell_type": "markdown",
   "id": "523a2997",
   "metadata": {},
   "source": [
    "Algunas de las bibliotecas comúnmente utilizadas por los científicos de datos incluyen:\n",
    "1. Pandas: proporciona estructuras de datos rápidas, flexibles y expresivas diseñadas para hacer el trabajo con datos \"relacionales\" o \"etiquetados\" tanto fácil como intuitivo.\n",
    "2. NumPy: es fundamental para la computación científica con Python. Ofrece un poderoso objeto de array, herramientas para integrar C/C++ y Fortran, y funciones de álgebra lineal, transformada de Fourier, y generación de números aleatorios.\n",
    "3. Matplotlib: es una biblioteca de trazado para la creación de gráficos estáticos, interactivos y animados en Python.\n",
    "4. Scikit-learn: es una herramienta simple y eficiente para el análisis de datos y la minería de datos. Construida sobre NumPy, SciPy, y Matplotlib.\n"
   ]
  },
  {
   "cell_type": "markdown",
   "id": "2f09896e",
   "metadata": {},
   "source": [
    "| Herramientas de ciencia de datos |\n",
    "|----------------------------------|\n",
    "| Jupyter Notebook                 |\n",
    "| RStudio                          |\n",
    "| Apache Zeppelin                  |\n"
   ]
  },
  {
   "cell_type": "markdown",
   "id": "4fa46f1e",
   "metadata": {},
   "source": [
    "### A continuación se muestran algunos ejemplos de evaluación de expresiones aritméticas en Python.\n",
    "\n",
    "- Suma: `3 + 2` resulta en `5`\n",
    "- Resta: `10 - 3` resulta en `7`\n",
    "- Multiplicación: `4 * 2` resulta en `8`\n",
    "- División: `8 / 2` resulta en `4`\n",
    "- Potencia: `2 ** 3` resulta en `8`\n",
    "- Módulo (resto de la división): `10 % 3` resulta en `1`\n"
   ]
  },
  {
   "cell_type": "code",
   "execution_count": 1,
   "id": "c65c6719",
   "metadata": {},
   "outputs": [
    {
     "name": "stdout",
     "output_type": "stream",
     "text": [
      "17\n"
     ]
    }
   ],
   "source": [
    "# Esta es una expresión aritmética simple para multiplicar y luego sumar números enteros.\n",
    "resultado = (3 * 4) + 5\n",
    "print(resultado)\n"
   ]
  },
  {
   "cell_type": "code",
   "execution_count": 2,
   "id": "94393b36",
   "metadata": {},
   "outputs": [
    {
     "name": "stdout",
     "output_type": "stream",
     "text": [
      "3.3333333333333335\n"
     ]
    }
   ],
   "source": [
    "# Esto convertirá 200 minutos en horas dividiendo por 60.\n",
    "horas = 200 / 60\n",
    "print(horas)\n"
   ]
  },
  {
   "cell_type": "markdown",
   "id": "3ffbceff",
   "metadata": {},
   "source": [
    "## Autor\n",
    "\n",
    "Jerónimo López\n"
   ]
  },
  {
   "cell_type": "code",
   "execution_count": null,
   "id": "84b02027",
   "metadata": {},
   "outputs": [],
   "source": []
  }
 ],
 "metadata": {
  "kernelspec": {
   "display_name": "Python 3 (ipykernel)",
   "language": "python",
   "name": "python3"
  },
  "language_info": {
   "codemirror_mode": {
    "name": "ipython",
    "version": 3
   },
   "file_extension": ".py",
   "mimetype": "text/x-python",
   "name": "python",
   "nbconvert_exporter": "python",
   "pygments_lexer": "ipython3",
   "version": "3.11.5"
  }
 },
 "nbformat": 4,
 "nbformat_minor": 5
}
